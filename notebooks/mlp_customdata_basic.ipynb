{
 "cells": [
  {
   "cell_type": "code",
   "execution_count": 1,
   "metadata": {
    "collapsed": true
   },
   "outputs": [],
   "source": [
    "\"\"\"\n",
    " Simple Multi-Layer Pecptron with Custom Data\n",
    " @Sungjoon Choi (sungjoon.choi@cpslab.snu.ac.kr)\n",
    "\"\"\"\n",
    "import os\n",
    "import numpy as np\n",
    "import tensorflow as tf\n",
    "import matplotlib.pyplot as plt\n",
    "%matplotlib inline  "
   ]
  },
  {
   "cell_type": "code",
   "execution_count": 2,
   "metadata": {
    "collapsed": false
   },
   "outputs": [
    {
     "name": "stdout",
     "output_type": "stream",
     "text": [
      "69 train images loaded\n",
      "18 test images loaded\n",
      "900 dimensional input\n",
      "2 classes\n"
     ]
    }
   ],
   "source": [
    "# Load them!\n",
    "cwd = os.getcwd()\n",
    "loadpath = cwd + \"/data/trainingset.npz\"\n",
    "l = np.load(loadpath)\n",
    "\n",
    "# See what's in here\n",
    "l.files\n",
    "\n",
    "# Parse data\n",
    "trainimg = l['trainimg']\n",
    "trainlabel = l['trainlabel']\n",
    "testimg = l['testimg']\n",
    "testlabel = l['testlabel']\n",
    "ntrain = trainimg.shape[0]\n",
    "nclass = trainlabel.shape[1]\n",
    "dim    = trainimg.shape[1]\n",
    "ntest  = testimg.shape[0]\n",
    "\n",
    "print (\"%d train images loaded\" % (ntrain))\n",
    "print (\"%d test images loaded\" % (ntest))\n",
    "print (\"%d dimensional input\" % (dim))\n",
    "print (\"%d classes\" % (nclass))"
   ]
  },
  {
   "cell_type": "code",
   "execution_count": 3,
   "metadata": {
    "collapsed": false
   },
   "outputs": [
    {
     "name": "stdout",
     "output_type": "stream",
     "text": [
      "Network Ready to Go!\n"
     ]
    }
   ],
   "source": [
    "# Parameters\n",
    "learning_rate   = 0.001\n",
    "training_epochs = 100\n",
    "batch_size      = ntrain\n",
    "display_step    = nclass\n",
    "\n",
    "# Network Parameters\n",
    "n_hidden_1 = 256 # 1st layer num features\n",
    "n_hidden_2 = 128 # 2nd layer num features\n",
    "n_input    = dim # data input (img shape: 28*28)\n",
    "n_classes  = nclass # total classes (0-9 digits)\n",
    "\n",
    "# tf Graph input\n",
    "x = tf.placeholder(\"float\", [None, n_input])\n",
    "y = tf.placeholder(\"float\", [None, n_classes])\n",
    "\n",
    "# Create model\n",
    "def multilayer_perceptron(_X, _weights, _biases):\n",
    "    layer_1 = tf.nn.sigmoid(tf.add(tf.matmul(_X, _weights['h1']), _biases['b1'])) \n",
    "    layer_2 = tf.nn.sigmoid(tf.add(tf.matmul(layer_1, _weights['h2']), _biases['b2']))\n",
    "    return (tf.sigmoid(tf.matmul(layer_2, _weights['out']) + _biases['out']))\n",
    "    # return (tf.sigmoid(tf.matmul(layer_2, _weights['out']) + _biases['out']))\n",
    "    \n",
    "# Store layers weight & bias\n",
    "stddev = 0.1 # <== This greatly affects accuracy!! \n",
    "weights = {\n",
    "    'h1': tf.Variable(tf.random_normal([n_input, n_hidden_1], stddev=stddev)),\n",
    "    'h2': tf.Variable(tf.random_normal([n_hidden_1, n_hidden_2], stddev=stddev)),\n",
    "    'out': tf.Variable(tf.random_normal([n_hidden_2, n_classes], stddev=stddev))\n",
    "}\n",
    "biases = {\n",
    "    'b1': tf.Variable(tf.random_normal([n_hidden_1])),\n",
    "    'b2': tf.Variable(tf.random_normal([n_hidden_2])),\n",
    "    'out': tf.Variable(tf.random_normal([n_classes]))\n",
    "}\n",
    "print (\"Network Ready to Go!\")"
   ]
  },
  {
   "cell_type": "code",
   "execution_count": 4,
   "metadata": {
    "collapsed": true
   },
   "outputs": [],
   "source": [
    "# Construct model\n",
    "pred = multilayer_perceptron(x, weights, biases)\n",
    "\n",
    "# Define loss and optimizer\n",
    "cost = tf.reduce_mean(tf.nn.softmax_cross_entropy_with_logits(pred, y)) # Softmax loss\n",
    "optm = tf.train.AdamOptimizer(learning_rate=learning_rate).minimize(cost) # Adam Optimizer\n",
    "corr = tf.equal(tf.argmax(pred, 1), tf.argmax(y, 1))    \n",
    "accr = tf.reduce_mean(tf.cast(corr, \"float\"))\n",
    "\n",
    "# Initializing the variables\n",
    "init = tf.initialize_all_variables()"
   ]
  },
  {
   "cell_type": "code",
   "execution_count": 5,
   "metadata": {
    "collapsed": false,
    "scrolled": true
   },
   "outputs": [
    {
     "name": "stdout",
     "output_type": "stream",
     "text": [
      "Epoch: 000/100 cost: 0.690817058\n",
      "Training accuracy: 0.522\n",
      "Epoch: 002/100 cost: 0.685374737\n",
      "Training accuracy: 0.536\n",
      "Epoch: 004/100 cost: 0.675440788\n",
      "Training accuracy: 0.594\n",
      "Epoch: 006/100 cost: 0.685953081\n",
      "Training accuracy: 0.551\n",
      "Epoch: 008/100 cost: 0.678594172\n",
      "Training accuracy: 0.594\n",
      "Epoch: 010/100 cost: 0.675776839\n",
      "Training accuracy: 0.609\n",
      "Epoch: 012/100 cost: 0.668014824\n",
      "Training accuracy: 0.623\n",
      "Epoch: 014/100 cost: 0.675286949\n",
      "Training accuracy: 0.565\n",
      "Epoch: 016/100 cost: 0.654722035\n",
      "Training accuracy: 0.696\n",
      "Epoch: 018/100 cost: 0.656322002\n",
      "Training accuracy: 0.667\n",
      "Epoch: 020/100 cost: 0.617808342\n",
      "Training accuracy: 0.783\n",
      "Epoch: 022/100 cost: 0.635324121\n",
      "Training accuracy: 0.783\n",
      "Epoch: 024/100 cost: 0.619468510\n",
      "Training accuracy: 0.855\n",
      "Epoch: 026/100 cost: 0.593406022\n",
      "Training accuracy: 0.812\n",
      "Epoch: 028/100 cost: 0.620080769\n",
      "Training accuracy: 0.681\n",
      "Epoch: 030/100 cost: 0.577326953\n",
      "Training accuracy: 0.754\n",
      "Epoch: 032/100 cost: 0.599855006\n",
      "Training accuracy: 0.783\n",
      "Epoch: 034/100 cost: 0.537522912\n",
      "Training accuracy: 0.913\n",
      "Epoch: 036/100 cost: 0.545682609\n",
      "Training accuracy: 0.841\n",
      "Epoch: 038/100 cost: 0.556996524\n",
      "Training accuracy: 0.884\n",
      "Epoch: 040/100 cost: 0.549415052\n",
      "Training accuracy: 0.855\n",
      "Epoch: 042/100 cost: 0.566422343\n",
      "Training accuracy: 0.797\n",
      "Epoch: 044/100 cost: 0.514988840\n",
      "Training accuracy: 0.899\n",
      "Epoch: 046/100 cost: 0.546158910\n",
      "Training accuracy: 0.841\n",
      "Epoch: 048/100 cost: 0.583419323\n",
      "Training accuracy: 0.768\n",
      "Epoch: 050/100 cost: 0.513058662\n",
      "Training accuracy: 0.942\n",
      "Epoch: 052/100 cost: 0.604226053\n",
      "Training accuracy: 0.638\n",
      "Epoch: 054/100 cost: 0.546856105\n",
      "Training accuracy: 0.826\n",
      "Epoch: 056/100 cost: 0.547328532\n",
      "Training accuracy: 0.783\n",
      "Epoch: 058/100 cost: 0.524111867\n",
      "Training accuracy: 0.841\n",
      "Epoch: 060/100 cost: 0.445512235\n",
      "Training accuracy: 0.899\n",
      "Epoch: 062/100 cost: 0.456849426\n",
      "Training accuracy: 0.942\n",
      "Epoch: 064/100 cost: 0.457493007\n",
      "Training accuracy: 0.899\n",
      "Epoch: 066/100 cost: 0.486148655\n",
      "Training accuracy: 0.855\n",
      "Epoch: 068/100 cost: 0.465792954\n",
      "Training accuracy: 0.913\n",
      "Epoch: 070/100 cost: 0.474376351\n",
      "Training accuracy: 0.899\n",
      "Epoch: 072/100 cost: 0.484900475\n",
      "Training accuracy: 0.884\n",
      "Epoch: 074/100 cost: 0.466711640\n",
      "Training accuracy: 0.855\n",
      "Epoch: 076/100 cost: 0.449737489\n",
      "Training accuracy: 0.855\n",
      "Epoch: 078/100 cost: 0.440392256\n",
      "Training accuracy: 0.957\n",
      "Epoch: 080/100 cost: 0.497481942\n",
      "Training accuracy: 0.826\n",
      "Epoch: 082/100 cost: 0.480683446\n",
      "Training accuracy: 0.841\n",
      "Epoch: 084/100 cost: 0.482740611\n",
      "Training accuracy: 0.899\n",
      "Epoch: 086/100 cost: 0.471454620\n",
      "Training accuracy: 0.855\n",
      "Epoch: 088/100 cost: 0.409929812\n",
      "Training accuracy: 1.000\n",
      "Epoch: 090/100 cost: 0.432253897\n",
      "Training accuracy: 0.942\n",
      "Epoch: 092/100 cost: 0.459527582\n",
      "Training accuracy: 0.899\n",
      "Epoch: 094/100 cost: 0.428644300\n",
      "Training accuracy: 0.942\n",
      "Epoch: 096/100 cost: 0.434928656\n",
      "Training accuracy: 0.870\n",
      "Epoch: 098/100 cost: 0.380898237\n",
      "Training accuracy: 1.000\n",
      "Optimization Finished!\n"
     ]
    }
   ],
   "source": [
    "# Launch the graph\n",
    "sess = tf.Session()\n",
    "sess.run(init)\n",
    "\n",
    "# Training cycle\n",
    "for epoch in range(training_epochs):\n",
    "    avg_cost = 0.\n",
    "    total_batch = int(ntrain/batch_size)\n",
    "    # Loop over all batches\n",
    "    for i in range(total_batch):\n",
    "        randidx = np.random.randint(ntrain, size=batch_size)\n",
    "        batch_xs = trainimg[randidx, :]\n",
    "        batch_ys = trainlabel[randidx, :]   \n",
    "        # Fit training using batch data\n",
    "        sess.run(optm, feed_dict={x: batch_xs, y: batch_ys})\n",
    "        # Compute average loss\n",
    "        avg_cost += sess.run(cost, feed_dict={x: batch_xs, y: batch_ys})/total_batch\n",
    "    # Display logs per epoch step\n",
    "    if epoch % display_step == 0:\n",
    "        print (\"Epoch: %03d/%03d cost: %.9f\" % (epoch, training_epochs, avg_cost))\n",
    "        train_acc = sess.run(accr, feed_dict={x: batch_xs, y: batch_ys})\n",
    "        print (\"Training accuracy: %.3f\" % (train_acc))\n",
    "\n",
    "print (\"Optimization Finished!\")\n"
   ]
  },
  {
   "cell_type": "code",
   "execution_count": 6,
   "metadata": {
    "collapsed": false,
    "scrolled": false
   },
   "outputs": [
    {
     "name": "stdout",
     "output_type": "stream",
     "text": [
      "Test accuracy: 0.833\n"
     ]
    }
   ],
   "source": [
    "test_acc = sess.run(accr, \n",
    "                    feed_dict={x: testimg, y: testlabel})\n",
    "print (\"Test accuracy: %.3f\" % (test_acc))"
   ]
  }
 ],
 "metadata": {
  "kernelspec": {
   "display_name": "Python 2",
   "language": "python",
   "name": "python2"
  },
  "language_info": {
   "codemirror_mode": {
    "name": "ipython",
    "version": 2
   },
   "file_extension": ".py",
   "mimetype": "text/x-python",
   "name": "python",
   "nbconvert_exporter": "python",
   "pygments_lexer": "ipython2",
   "version": "2.7.6"
  }
 },
 "nbformat": 4,
 "nbformat_minor": 0
}
