{
 "cells": [
  {
   "cell_type": "code",
   "execution_count": 1,
   "metadata": {
    "collapsed": false
   },
   "outputs": [
    {
     "name": "stdout",
     "output_type": "stream",
     "text": [
      "Packs loaded\n"
     ]
    }
   ],
   "source": [
    "\"\"\"\n",
    " Logistic Regression with MNIST\n",
    " @Sungjoon Choi (sungjoon.choi@cpslab.snu.ac.kr)\n",
    "\"\"\"\n",
    "import numpy as np\n",
    "import tensorflow as tf\n",
    "import matplotlib.pyplot as plt\n",
    "from tensorflow.examples.tutorials.mnist import input_data\n",
    "print (\"Packs loaded\")"
   ]
  },
  {
   "cell_type": "code",
   "execution_count": 2,
   "metadata": {
    "collapsed": false
   },
   "outputs": [
    {
     "name": "stdout",
     "output_type": "stream",
     "text": [
      "Extracting data/train-images-idx3-ubyte.gz\n",
      "Extracting data/train-labels-idx1-ubyte.gz\n",
      "Extracting data/t10k-images-idx3-ubyte.gz\n",
      "Extracting data/t10k-labels-idx1-ubyte.gz\n",
      "MNIST loaded\n"
     ]
    }
   ],
   "source": [
    "# Download and Extract MNIST dataset\n",
    "mnist      = input_data.read_data_sets('data/', one_hot=True)\n",
    "trainimg   = mnist.train.images\n",
    "trainlabel = mnist.train.labels\n",
    "testimg    = mnist.test.images\n",
    "testlabel  = mnist.test.labels\n",
    "print (\"MNIST loaded\")"
   ]
  },
  {
   "cell_type": "code",
   "execution_count": 3,
   "metadata": {
    "collapsed": false
   },
   "outputs": [
    {
     "name": "stdout",
     "output_type": "stream",
     "text": [
      "Network constructed\n"
     ]
    }
   ],
   "source": [
    "# Parameters of Logistic Regression\n",
    "learning_rate   = 0.01\n",
    "training_epochs = 50\n",
    "batch_size      = 100\n",
    "display_step    = 5\n",
    "\n",
    "# Create Graph for Logistic Regression\n",
    "x = tf.placeholder(\"float\", [None, 784]) \n",
    "y = tf.placeholder(\"float\", [None, 10])  # None is for infinite \n",
    "W = tf.Variable(tf.zeros([784, 10]))\n",
    "b = tf.Variable(tf.zeros([10]))\n",
    "\n",
    "# Activation, Cost, and Optimizing functions\n",
    "actv = tf.nn.softmax(tf.matmul(x, W) + b) # Softmax\n",
    "cost = tf.reduce_mean(-tf.reduce_sum(y*tf.log(actv), reduction_indices=1)) \n",
    "#   Cross entropy\n",
    "# cost = tf.reduce_mean(tf.pow(activation-y, 2))\n",
    "#   Squared loss\n",
    "\n",
    "# * is an element-wise product in numpy (in Matlab, it should be .*)\n",
    "optm = tf.train.GradientDescentOptimizer(learning_rate).minimize(cost) \n",
    "# Gradient Descent\n",
    "pred = tf.equal(tf.argmax(actv, 1), tf.argmax(y, 1))    \n",
    "accr = tf.reduce_mean(tf.cast(pred, \"float\"))\n",
    "\n",
    "# Optimize with TensorFlow\n",
    "# Initializing the variables\n",
    "init = tf.initialize_all_variables()\n",
    "print (\"Network constructed\")"
   ]
  },
  {
   "cell_type": "code",
   "execution_count": 4,
   "metadata": {
    "collapsed": false,
    "scrolled": false
   },
   "outputs": [
    {
     "name": "stdout",
     "output_type": "stream",
     "text": [
      "Epoch: 000/050 cost: 1.172071438 train_acc: 0.840\n",
      "Epoch: 005/050 cost: 0.440569847 train_acc: 0.870\n",
      "Epoch: 010/050 cost: 0.379107168 train_acc: 0.900\n",
      "Epoch: 015/050 cost: 0.354556558 train_acc: 0.870\n",
      "Epoch: 020/050 cost: 0.347562262 train_acc: 0.910\n",
      "Epoch: 025/050 cost: 0.328015022 train_acc: 0.930\n",
      "Epoch: 030/050 cost: 0.319817915 train_acc: 0.880\n",
      "Epoch: 035/050 cost: 0.313707087 train_acc: 0.890\n",
      "Epoch: 040/050 cost: 0.310373813 train_acc: 0.910\n",
      "Epoch: 045/050 cost: 0.305763753 train_acc: 0.940\n",
      "Optimization Finished!\n",
      "('Accuracy:', 0.91900009)\n",
      "Done.\n"
     ]
    }
   ],
   "source": [
    "# Launch the graph\n",
    "with tf.Session() as sess:\n",
    "    sess.run(init)\n",
    "\n",
    "    # Training cycle\n",
    "    for epoch in range(training_epochs):\n",
    "        avg_cost = 0.\n",
    "        num_batch = int(mnist.train.num_examples/batch_size)\n",
    "        # Loop over all batches\n",
    "        for i in range(num_batch): \n",
    "            if 0: # Using tensorflow API\n",
    "                batch_xs, batch_ys = mnist.train.next_batch(batch_size)\n",
    "            else: # Random batch sampling \n",
    "                randidx = np.random.randint(trainimg.shape[0]\n",
    "                                            , size=batch_size)\n",
    "                batch_xs = trainimg[randidx, :]\n",
    "                batch_ys = trainlabel[randidx, :]                \n",
    "            \n",
    "            # Fit training using batch data\n",
    "            sess.run(optm, feed_dict={x: batch_xs, y: batch_ys})\n",
    "            # Compute average loss\n",
    "            avg_cost += sess.run(cost, feed_dict=\n",
    "                                 {x: batch_xs, y: batch_ys})/num_batch\n",
    "            \n",
    "        # Display logs per epoch step\n",
    "        if epoch % display_step == 0:\n",
    "            train_acc = accr.eval({x: batch_xs, y: batch_ys})\n",
    "            print (\"Epoch: %03d/%03d cost: %.9f train_acc: %.3f\" \n",
    "                   % (epoch, training_epochs, avg_cost, train_acc))\n",
    "\n",
    "    print (\"Optimization Finished!\")\n",
    "\n",
    "    # Test model\n",
    "    # Calculate accuracy\n",
    "    print (\"Accuracy:\", accr.eval({x: mnist.test.images\n",
    "                                   , y: mnist.test.labels}))\n",
    "print (\"Done.\")"
   ]
  },
  {
   "cell_type": "code",
   "execution_count": null,
   "metadata": {
    "collapsed": true
   },
   "outputs": [],
   "source": []
  }
 ],
 "metadata": {
  "kernelspec": {
   "display_name": "Python 2",
   "language": "python",
   "name": "python2"
  },
  "language_info": {
   "codemirror_mode": {
    "name": "ipython",
    "version": 2
   },
   "file_extension": ".py",
   "mimetype": "text/x-python",
   "name": "python",
   "nbconvert_exporter": "python",
   "pygments_lexer": "ipython2",
   "version": "2.7.6"
  }
 },
 "nbformat": 4,
 "nbformat_minor": 0
}
