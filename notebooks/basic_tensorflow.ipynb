{
 "cells": [
  {
   "cell_type": "code",
   "execution_count": 3,
   "metadata": {
    "collapsed": false
   },
   "outputs": [
    {
     "name": "stdout",
     "output_type": "stream",
     "text": [
      "packs loaded\n"
     ]
    }
   ],
   "source": [
    "\"\"\"\n",
    " Basic TensorFlow \n",
    " Sungjoon Choi (sungjoon.choi@cpslab.snu.ac.kr)\n",
    "\"\"\"\n",
    "import numpy as np\n",
    "import tensorflow as tf\n",
    "\n",
    "print (\"packs loaded\")"
   ]
  },
  {
   "cell_type": "code",
   "execution_count": 4,
   "metadata": {
    "collapsed": true
   },
   "outputs": [],
   "source": [
    "\"\"\"\n",
    " In order to make things happen, we need 'session'!\n",
    "\"\"\"\n",
    "sess = tf.Session()"
   ]
  },
  {
   "cell_type": "code",
   "execution_count": 5,
   "metadata": {
    "collapsed": false
   },
   "outputs": [
    {
     "name": "stdout",
     "output_type": "stream",
     "text": [
      "hello is Tensor(\"Const:0\", shape=(), dtype=string)\n",
      "\n",
      "Type of 'hello': <class 'tensorflow.python.framework.ops.Tensor'>\n",
      "Type of 'hello_out': <type 'str'>\n",
      "\n",
      "Hello, it's me.\n",
      "\n",
      "Until you run session, nothing happens!\n"
     ]
    }
   ],
   "source": [
    "\"\"\"\n",
    " Run session with tf variable\n",
    "\"\"\"\n",
    "hello = tf.constant(\"Hello, it's me.\")\n",
    "print (\"hello is %s\" % (hello))\n",
    "\n",
    "hello_out = sess.run(hello)\n",
    "print (\"\\nType of 'hello': %s\" % (type(hello)))\n",
    "print (\"Type of 'hello_out': %s\" % (type(hello_out)))\n",
    "print\n",
    "print (hello_out) \n",
    "\n",
    "\"\"\"\n",
    " Until you run session, nothing happens!\n",
    "\"\"\"\n",
    "print (\"\\nUntil you run session, nothing happens!\")"
   ]
  },
  {
   "cell_type": "code",
   "execution_count": 6,
   "metadata": {
    "collapsed": false
   },
   "outputs": [
    {
     "name": "stdout",
     "output_type": "stream",
     "text": [
      "Constant types (numpy)\n",
      "'a': Tensor(\"Const_1:0\", shape=(), dtype=float32) \n",
      "     Type: <class 'tensorflow.python.framework.ops.Tensor'>\n",
      "'a': Tensor(\"Const_2:0\", shape=(), dtype=float32) \n",
      "     Type: <class 'tensorflow.python.framework.ops.Tensor'>\n",
      "\n",
      "Type of 'a_out' is <type 'numpy.float32'>\n",
      "Type of 'b_out' is <type 'numpy.float32'>\n",
      "a_out is 1.5 b_out is 2.5 a_out+b_out is 4.0\n"
     ]
    }
   ],
   "source": [
    "\"\"\"\n",
    " There are other types as well\n",
    "  1. Constant types\n",
    "  2. Operators \n",
    "  3. Variables   \n",
    "  4. Placeholder (Buffers)\n",
    "\"\"\"\n",
    "\"\"\"\n",
    " Constant types\n",
    "\"\"\"\n",
    "print (\"Constant types (numpy)\")\n",
    "a = tf.constant(1.5)\n",
    "b = tf.constant(2.5)\n",
    "print (\"'a': %s \\n     Type: %s\" % (a, type(a)))\n",
    "print (\"'a': %s \\n     Type: %s\" % (b, type(b)))\n",
    "a_out = sess.run(a)\n",
    "b_out = sess.run(b)\n",
    "print\n",
    "print (\"Type of 'a_out' is %s\" % (type(a_out)))\n",
    "print (\"Type of 'b_out' is %s\" % (type(b_out)))\n",
    "print (\"a_out is %.1f b_out is %.1f a_out+b_out is %.1f\" \n",
    "       % (a_out, b_out, a_out+b_out))"
   ]
  },
  {
   "cell_type": "code",
   "execution_count": 7,
   "metadata": {
    "collapsed": false
   },
   "outputs": [
    {
     "name": "stdout",
     "output_type": "stream",
     "text": [
      "Operators (tf.add, tf.mul)\n",
      " 'add' is Tensor(\"Add:0\", shape=(), dtype=float32) \n",
      "    type is <class 'tensorflow.python.framework.ops.Tensor'>\n",
      " 'add_out' is 4.0 \n",
      "    type is <type 'numpy.float32'>\n",
      " 'mul' is Tensor(\"Mul:0\", shape=(), dtype=float32) \n",
      "    type is <class 'tensorflow.python.framework.ops.Tensor'>\n",
      " 'mul_out' is 3.75 \n",
      "    type is <type 'numpy.float32'>\n"
     ]
    }
   ],
   "source": [
    "\"\"\"\n",
    " Operators are also tf variables\n",
    "\"\"\"\n",
    "print (\"Operators (tf.add, tf.mul)\")\n",
    "add = tf.add(a, b)\n",
    "print (\" 'add' is %s \\n    type is %s\" % (add, type(add)))\n",
    "add_out = sess.run(add)\n",
    "print (\" 'add_out' is %s \\n    type is %s\" % (add_out, type(add_out)))\n",
    "mul = tf.mul(a, b)\n",
    "print (\" 'mul' is %s \\n    type is %s\" % (mul, type(mul)))\n",
    "mul_out = sess.run(mul)\n",
    "print (\" 'mul_out' is %s \\n    type is %s\" % (mul_out, type(mul_out)))"
   ]
  },
  {
   "cell_type": "code",
   "execution_count": 11,
   "metadata": {
    "collapsed": false
   },
   "outputs": [
    {
     "name": "stdout",
     "output_type": "stream",
     "text": [
      "Variables & PlaceHolders\n",
      " 'Input': Tensor(\"Placeholder_3:0\", shape=(?, 20), dtype=float32) \n",
      "    Type is <class 'tensorflow.python.framework.ops.Tensor'>\n",
      " 'Weight': <tensorflow.python.ops.variables.Variable object at 0x7f222c0be7d0> \n",
      "    Type is <class 'tensorflow.python.ops.variables.Variable'>\n",
      " 'Bias': <tensorflow.python.ops.variables.Variable object at 0x7f222c0be510> \n",
      "    Type is <class 'tensorflow.python.ops.variables.Variable'>\n"
     ]
    }
   ],
   "source": [
    "\"\"\"\n",
    " Variables & PlaceHolder\n",
    "\"\"\"\n",
    "print (\"Variables & PlaceHolders\")\n",
    "X = np.random.rand(1, 20)\n",
    "Input  = tf.placeholder(tf.float32, [None, 20])\n",
    "Weight = tf.Variable(tf.random_normal([20, 10], stddev=0.5))\n",
    "Bias   = tf.Variable(tf.zeros([1, 10]))\n",
    "print (\" 'Input': %s \\n    Type is %s\" % (Input, type(Input)))\n",
    "print (\" 'Weight': %s \\n    Type is %s\" % (Weight, type(Weight)))\n",
    "print (\" 'Bias': %s \\n    Type is %s\" % (Bias, type(Bias)))\n",
    "# Weight_out = sess.run(Weight) # <= This is not allowed! \n",
    "# print Weight.eval(sess) # <= This is not also allowed! (Do You Know Why??)"
   ]
  },
  {
   "cell_type": "code",
   "execution_count": 16,
   "metadata": {
    "collapsed": false,
    "scrolled": true
   },
   "outputs": [
    {
     "name": "stdout",
     "output_type": "stream",
     "text": [
      "Initialize Variables\n",
      " 'Weight': <tensorflow.python.ops.variables.Variable object at 0x7f222c0be7d0> \n",
      "  Type is <class 'tensorflow.python.ops.variables.Variable'>\n",
      " 'Bias': <tensorflow.python.ops.variables.Variable object at 0x7f222c0be510> \n",
      "  Type is <class 'tensorflow.python.ops.variables.Variable'>\n",
      "\n",
      "[[ -9.62727666e-02  -3.91240716e-01   5.41566312e-01   1.23514183e-01\n",
      "   -1.54351801e-01  -6.83017820e-02  -3.18580389e-01  -8.05534840e-01\n",
      "    1.99586242e-01   7.25119352e-01]\n",
      " [  3.55915248e-01   1.77926481e-01   4.09052432e-01  -6.86136901e-01\n",
      "   -5.04007280e-01   1.32809803e-01  -3.07008654e-01   4.85888302e-01\n",
      "    1.72075227e-01  -8.39301586e-01]\n",
      " [ -8.10920835e-01  -4.40986753e-02   1.32061750e-01  -2.79688686e-01\n",
      "   -4.12809730e-01  -3.22963208e-01   2.39247873e-01  -4.38907385e-01\n",
      "   -6.89010680e-01   5.00475883e-01]\n",
      " [ -4.91410419e-02  -4.54342455e-01   5.33862770e-01  -5.01583517e-01\n",
      "    1.03751540e+00  -3.25474441e-01   5.77104151e-01  -3.16689104e-01\n",
      "   -5.40526986e-01   3.50906968e-01]\n",
      " [ -7.67064035e-01   8.79680514e-01  -1.10530570e-01   3.97405237e-01\n",
      "    1.21151030e+00  -2.49557838e-01   6.18773811e-02   3.77934873e-01\n",
      "    6.88477814e-01  -2.36810911e-02]\n",
      " [  2.72410512e-01  -2.17043847e-01   8.71024668e-01   3.15225601e-01\n",
      "    9.31681916e-02  -8.15773010e-02  -1.58452824e-01   2.48561308e-01\n",
      "   -6.41113341e-01   2.63885856e-01]\n",
      " [ -1.07825428e-01   9.39283147e-02  -1.95429102e-01  -3.87528539e-01\n",
      "   -1.14795232e+00   1.85065940e-01   3.91402453e-01  -3.06333750e-02\n",
      "   -6.15611434e-01  -2.93065608e-01]\n",
      " [ -6.45552576e-01   3.63330156e-01   2.84864068e-01  -7.58810103e-01\n",
      "    7.60134459e-01   5.32061756e-01   5.76949827e-02  -7.59137034e-01\n",
      "    1.01867601e-01   5.77995479e-01]\n",
      " [ -5.41159213e-01   6.51405215e-01   1.90800831e-01  -1.77808866e-01\n",
      "    5.18809378e-01  -5.84497511e-01   2.50141144e-01   2.42064327e-01\n",
      "    1.63521413e-02  -7.17462227e-02]\n",
      " [  2.40468532e-01  -5.58377206e-01  -2.65996546e-01  -4.91839349e-01\n",
      "    1.31635129e-01   1.46198675e-01  -3.97075206e-01  -1.21972873e-03\n",
      "   -6.67695820e-01  -1.04871213e+00]\n",
      " [  6.72545612e-01   2.96195328e-01  -4.70382482e-01  -2.78120488e-02\n",
      "   -7.12860763e-01  -8.69890332e-01  -9.91589390e-03   3.20777625e-01\n",
      "    1.00997537e-02   6.24848343e-02]\n",
      " [ -3.89625371e-01  -1.18976302e-01   7.75474787e-01  -2.47670561e-01\n",
      "    5.01761213e-02  -1.92762628e-01   5.62822726e-03   6.67673945e-01\n",
      "    1.37269303e-01   4.06059951e-01]\n",
      " [  1.90850608e-02   2.26669852e-02   3.56642663e-01   6.38366342e-01\n",
      "   -7.37440169e-01  -9.06115830e-01  -4.54474062e-01  -1.31896451e-01\n",
      "    4.98984933e-01  -8.44952703e-01]\n",
      " [ -5.84760904e-01   2.40076423e-01  -1.37888598e+00  -9.95958000e-02\n",
      "   -5.51839948e-01  -4.70000207e-01  -1.69612870e-01  -4.99539912e-01\n",
      "    2.67752931e-02   9.33803499e-01]\n",
      " [ -4.64633793e-01  -1.68799028e-01   1.24019586e-01   5.43328106e-01\n",
      "    7.26147354e-01   1.28147805e+00   1.55648917e-01   5.48733175e-01\n",
      "    9.48912203e-01   6.67388439e-01]\n",
      " [  5.84106326e-01  -7.27899134e-01   9.41513758e-03   4.96717878e-02\n",
      "   -4.79659379e-01  -6.75790459e-02  -9.03745592e-01  -6.18299954e-02\n",
      "   -6.27845824e-01   1.85451776e-01]\n",
      " [ -6.70046508e-01   2.76949376e-01   3.50000739e-01  -1.32159874e-01\n",
      "    2.84023076e-01   1.47570774e-01   1.02103090e+00  -4.92085725e-01\n",
      "    5.33277214e-01  -1.28390217e+00]\n",
      " [  1.01273373e-01  -4.94644865e-02   9.89497826e-02   1.13278046e-01\n",
      "   -3.53639334e-01   4.92940426e-01   6.54053017e-02  -5.58687210e-01\n",
      "    3.59539241e-01  -4.72445518e-01]\n",
      " [  2.27875218e-01   6.80778548e-03   2.25141987e-01  -5.30063212e-01\n",
      "   -7.96883702e-01  -3.52132976e-01  -1.61192402e-01  -1.46069437e-01\n",
      "    6.27055645e-01   3.01526219e-01]\n",
      " [  1.01726091e+00   5.46805382e-01  -5.56945540e-02   6.75228834e-01\n",
      "    3.80724967e-01   8.46137464e-01  -7.81624198e-01   1.10434198e+00\n",
      "    9.69546586e-02  -4.50462401e-02]]\n"
     ]
    }
   ],
   "source": [
    "\"\"\"\n",
    " Initialize Variables\n",
    "\"\"\"\n",
    "print (\"Initialize Variables\")\n",
    "init = tf.initialize_all_variables()\n",
    "sess.run(init)\n",
    "print (\" 'Weight': %s \\n  Type is %s\" % (Weight, type(Weight)))\n",
    "print (\" 'Bias': %s \\n  Type is %s\" % (Bias, type(Bias)))\n",
    "print\n",
    "print (Weight.eval(sess))"
   ]
  },
  {
   "cell_type": "code",
   "execution_count": 18,
   "metadata": {
    "collapsed": false
   },
   "outputs": [
    {
     "name": "stdout",
     "output_type": "stream",
     "text": [
      "Operations with Variables and PlaceHolders\n",
      " 'oper' is Tensor(\"add_1:0\", shape=(?, 10), dtype=float32) \n",
      "  Type is <class 'tensorflow.python.framework.ops.Tensor'>\n",
      " 'val' is [[-1.53002393  0.77755332  1.79046428 -0.63237756 -0.46679226 -0.18892968\n",
      "  -0.61524808 -0.88700372  1.25892055  0.4830367 ]] \n",
      "  Type is <type 'numpy.ndarray'>\n"
     ]
    }
   ],
   "source": [
    "\"\"\"\n",
    " Operations with Variables and PlaceHolders\n",
    "\"\"\"\n",
    "print (\"Operations with Variables and PlaceHolders\")\n",
    "oper = tf.matmul(Input, Weight) + Bias\n",
    "val  = sess.run(oper, feed_dict={Input:X})\n",
    "print (\" 'oper' is %s \\n  Type is %s\" % (oper, type(oper)))\n",
    "print (\" 'val' is %s \\n  Type is %s\" % (val, type(val)))"
   ]
  },
  {
   "cell_type": "code",
   "execution_count": 20,
   "metadata": {
    "collapsed": false
   },
   "outputs": [
    {
     "name": "stdout",
     "output_type": "stream",
     "text": [
      "Operators with PlaceHolder (tf.add, tf.mul)\n",
      " 'add_out' is 11.0 \n",
      "  Type is <type 'numpy.float32'>\n",
      " 'mul_out' is 30.0 \n",
      "  Type is <type 'numpy.float32'>\n"
     ]
    }
   ],
   "source": [
    "\"\"\"\n",
    " Operators with PlaceHolder\n",
    " (This is very important !)\n",
    " (Remember 'feed_dict' !!!)\n",
    "\"\"\"\n",
    "print (\"Operators with PlaceHolder (tf.add, tf.mul)\")\n",
    "x = tf.placeholder(tf.float32)\n",
    "y = tf.placeholder(tf.float32)\n",
    "add = tf.add(x, y)\n",
    "mul = tf.mul(x, y)\n",
    "add_out = sess.run(add, feed_dict={x:5.0, y:6.0})\n",
    "mul_out = sess.run(mul, feed_dict={x:5.0, y:6.0})\n",
    "print (\" 'add_out' is %s \\n  Type is %s\" % (add_out, type(add_out)))\n",
    "print (\" 'mul_out' is %s \\n  Type is %s\" % (mul_out, type(mul_out)))"
   ]
  },
  {
   "cell_type": "code",
   "execution_count": null,
   "metadata": {
    "collapsed": true
   },
   "outputs": [],
   "source": []
  }
 ],
 "metadata": {
  "kernelspec": {
   "display_name": "Python 2",
   "language": "python",
   "name": "python2"
  },
  "language_info": {
   "codemirror_mode": {
    "name": "ipython",
    "version": 2
   },
   "file_extension": ".py",
   "mimetype": "text/x-python",
   "name": "python",
   "nbconvert_exporter": "python",
   "pygments_lexer": "ipython2",
   "version": "2.7.6"
  }
 },
 "nbformat": 4,
 "nbformat_minor": 0
}
